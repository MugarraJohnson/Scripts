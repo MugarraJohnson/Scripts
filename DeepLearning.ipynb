{
  "cells": [
    {
      "cell_type": "markdown",
      "metadata": {
        "colab_type": "text",
        "id": "view-in-github"
      },
      "source": [
        "<a href=\"https://colab.research.google.com/github/MugarraJohnson/Common/blob/main/DeepLearning.ipynb\" target=\"_parent\"><img src=\"https://colab.research.google.com/assets/colab-badge.svg\" alt=\"Open In Colab\"/></a>"
      ]
    },
    {
      "cell_type": "code",
      "execution_count": 1,
      "id": "a1bb47af",
      "metadata": {},
      "outputs": [
        {
          "name": "stdout",
          "output_type": "stream",
          "text": [
            "Requirement already satisfied: pandas in c:\\users\\mj\\appdata\\local\\programs\\python\\python312\\lib\\site-packages (2.1.4)Note: you may need to restart the kernel to use updated packages.\n",
            "\n",
            "Requirement already satisfied: numpy in c:\\users\\mj\\appdata\\local\\programs\\python\\python312\\lib\\site-packages (1.26.2)\n",
            "Requirement already satisfied: scipy in c:\\users\\mj\\appdata\\local\\programs\\python\\python312\\lib\\site-packages (1.11.4)\n",
            "Requirement already satisfied: linalg in c:\\users\\mj\\appdata\\local\\programs\\python\\python312\\lib\\site-packages (1.0.4)\n",
            "Requirement already satisfied: python-dateutil>=2.8.2 in c:\\users\\mj\\appdata\\local\\programs\\python\\python312\\lib\\site-packages (from pandas) (2.8.2)\n",
            "Requirement already satisfied: pytz>=2020.1 in c:\\users\\mj\\appdata\\local\\programs\\python\\python312\\lib\\site-packages (from pandas) (2023.3.post1)\n",
            "Requirement already satisfied: tzdata>=2022.1 in c:\\users\\mj\\appdata\\local\\programs\\python\\python312\\lib\\site-packages (from pandas) (2023.3)\n",
            "Requirement already satisfied: six>=1.5 in c:\\users\\mj\\appdata\\local\\programs\\python\\python312\\lib\\site-packages (from python-dateutil>=2.8.2->pandas) (1.16.0)\n"
          ]
        },
        {
          "name": "stderr",
          "output_type": "stream",
          "text": [
            "\n",
            "[notice] A new release of pip is available: 23.3.1 -> 23.3.2\n",
            "[notice] To update, run: python.exe -m pip install --upgrade pip\n"
          ]
        }
      ],
      "source": [
        "pip install pandas numpy scipy linalg"
      ]
    },
    {
      "cell_type": "code",
      "execution_count": 4,
      "id": "FXrh9fPyMtwx",
      "metadata": {
        "colab": {
          "base_uri": "https://localhost:8080/"
        },
        "id": "FXrh9fPyMtwx",
        "outputId": "e0433389-97a6-474e-b291-a972e3e025b9"
      },
      "outputs": [
        {
          "ename": "ModuleNotFoundError",
          "evalue": "No module named 'matplotlib'",
          "output_type": "error",
          "traceback": [
            "\u001b[1;31m---------------------------------------------------------------------------\u001b[0m",
            "\u001b[1;31mModuleNotFoundError\u001b[0m                       Traceback (most recent call last)",
            "Cell \u001b[1;32mIn[4], line 6\u001b[0m\n\u001b[0;32m      4\u001b[0m \u001b[38;5;28;01mfrom\u001b[39;00m \u001b[38;5;21;01mscipy\u001b[39;00m \u001b[38;5;28;01mimport\u001b[39;00m linalg\n\u001b[0;32m      5\u001b[0m \u001b[38;5;28;01mimport\u001b[39;00m \u001b[38;5;21;01msys\u001b[39;00m\n\u001b[1;32m----> 6\u001b[0m \u001b[38;5;28;01mimport\u001b[39;00m \u001b[38;5;21;01mmatplotlib\u001b[39;00m\u001b[38;5;21;01m.\u001b[39;00m\u001b[38;5;21;01mpyplot\u001b[39;00m \u001b[38;5;28;01mas\u001b[39;00m \u001b[38;5;21;01mplt\u001b[39;00m\n\u001b[0;32m      7\u001b[0m plt\u001b[38;5;241m.\u001b[39mstyle\u001b[38;5;241m.\u001b[39muse(\u001b[38;5;124m'\u001b[39m\u001b[38;5;124mseaborn-whitegrid\u001b[39m\u001b[38;5;124m'\u001b[39m)\n\u001b[0;32m      8\u001b[0m get_ipython()\u001b[38;5;241m.\u001b[39mrun_line_magic(\u001b[38;5;124m'\u001b[39m\u001b[38;5;124mmatplotlib\u001b[39m\u001b[38;5;124m'\u001b[39m, \u001b[38;5;124m'\u001b[39m\u001b[38;5;124minline\u001b[39m\u001b[38;5;124m'\u001b[39m)\n",
            "\u001b[1;31mModuleNotFoundError\u001b[0m: No module named 'matplotlib'"
          ]
        }
      ],
      "source": [
        "## Load libraries\n",
        "import pandas as pd\n",
        "import numpy as np\n",
        "from scipy import linalg\n",
        "import sys\n",
        "import matplotlib.pyplot as plt\n",
        "plt.style.use('seaborn-whitegrid')\n",
        "%matplotlib inline"
      ]
    },
    {
      "cell_type": "markdown",
      "id": "tSLG0vT6HNl2",
      "metadata": {
        "id": "tSLG0vT6HNl2"
      },
      "source": [
        "From https://www.tensorflow.org/guide/basics\n",
        "\n",
        "TensorFlow (TF) is an end-to-end platform for machine learning. It supports the following:\n",
        "\n",
        "1. Multidimensional-array based numeric computation (similar to NumPy.)\n",
        "2. GPU and distributed processing\n",
        "3. Automatic differentiation\n",
        "4. Model construction, training, and export\n",
        "5. And more\n",
        "\n",
        "---\n",
        "\n",
        "Some important points about TF.\n",
        "\n",
        "* TensorFlow was developed by the Google Brain team for internal use at Google. Then, it was made open source in November 2015.\n",
        "* Keras is an API (application programming interface) for deep learning calculations. API means that Keras defines a specific interface to write codes.\n",
        "* Keras was written in Python.\n",
        "* Keras has multiple backends (libraries that are\n",
        "responsible for doing the actual calculations): TensorFlow,\n",
        "CNTK, Theano.\n",
        "* Keras is focused on easy and fast prototyping, through\n",
        "user friendliness, modularity, and extensibility.\n",
        "* Although TF can be used as a backend for Keras, it is\n",
        "recommended to use tf.keras, which is the implementation\n",
        "of Keras in TF.\n"
      ]
    },
    {
      "cell_type": "markdown",
      "id": "20aeffaa",
      "metadata": {
        "id": "20aeffaa",
        "origin_pos": 1
      },
      "source": [
        "# Data Manipulation\n",
        ":label:`sec_ndarray`\n",
        "\n",
        "In order to get anything done,\n",
        "we need some way to store and manipulate data.\n",
        "Generally, there are two important things\n",
        "we need to do with data:\n",
        "(i) acquire them;\n",
        "and (ii) process them once they are inside the computer.\n",
        "There is no point in acquiring data\n",
        "without some way to store it,\n",
        "so to start, let's get our hands dirty\n",
        "with $n$-dimensional arrays,\n",
        "which we also call *tensors*.\n",
        "If you already know the NumPy\n",
        "scientific computing package,\n",
        "this will be a breeze.\n",
        "For all modern deep learning frameworks,\n",
        "the *tensor class* (`ndarray` in MXNet,\n",
        "`Tensor` in PyTorch and TensorFlow)\n",
        "resembles NumPy's `ndarray`,\n",
        "with a few killer features added.\n",
        "First, the tensor class\n",
        "supports automatic differentiation.\n",
        "Second, it leverages GPUs\n",
        "to accelerate numerical computation,\n",
        "whereas NumPy only runs on CPUs.\n",
        "These properties make neural networks\n",
        "both easy to code and fast to run.\n",
        "\n",
        "\n",
        "\n",
        "## Getting Started\n"
      ]
    },
    {
      "cell_type": "markdown",
      "id": "81323834",
      "metadata": {
        "id": "81323834",
        "origin_pos": 4,
        "tab": [
          "tensorflow"
        ]
      },
      "source": [
        "To start, we import `tensorflow`.\n",
        "For brevity, practitioners\n",
        "often assign the alias `tf`.\n"
      ]
    },
    {
      "cell_type": "code",
      "execution_count": null,
      "id": "c46bca87",
      "metadata": {
        "execution": {
          "iopub.execute_input": "2023-08-18T20:03:32.947591Z",
          "iopub.status.busy": "2023-08-18T20:03:32.946960Z",
          "iopub.status.idle": "2023-08-18T20:03:35.685762Z",
          "shell.execute_reply": "2023-08-18T20:03:35.684891Z"
        },
        "id": "c46bca87",
        "origin_pos": 7,
        "tab": [
          "tensorflow"
        ]
      },
      "outputs": [],
      "source": [
        "import tensorflow as tf"
      ]
    },
    {
      "cell_type": "code",
      "execution_count": null,
      "id": "VA6rtGqLW1jr",
      "metadata": {
        "colab": {
          "base_uri": "https://localhost:8080/",
          "height": 35
        },
        "id": "VA6rtGqLW1jr",
        "outputId": "8fb78089-dc9a-48da-818d-c556427fc144"
      },
      "outputs": [],
      "source": [
        "tf.__version__"
      ]
    },
    {
      "cell_type": "markdown",
      "id": "e8283dc8",
      "metadata": {
        "id": "e8283dc8",
        "origin_pos": 9
      },
      "source": [
        "[**A tensor represents a (possibly multidimensional) array of numerical values.**]\n",
        "In the one-dimensional case, i.e., when only one axis is needed for the data,\n",
        "a tensor is called a *vector*.\n",
        "With two axes, a tensor is called a *matrix*.\n",
        "With $k > 2$ axes, we drop the specialized names\n",
        "and just refer to the object as a $k^\\textrm{th}$-*order tensor*.\n"
      ]
    },
    {
      "cell_type": "markdown",
      "id": "6905448e",
      "metadata": {
        "id": "6905448e",
        "origin_pos": 12,
        "tab": [
          "tensorflow"
        ]
      },
      "source": [
        "TensorFlow provides a variety of functions\n",
        "for creating new tensors\n",
        "prepopulated with values.\n",
        "For example, by invoking `range(n)`,\n",
        "we can create a vector of evenly spaced values,\n",
        "starting at 0 (included)\n",
        "and ending at `n` (not included).\n",
        "By default, the interval size is $1$.\n",
        "Unless otherwise specified,\n",
        "new tensors are stored in main memory\n",
        "and designated for CPU-based computation.\n"
      ]
    },
    {
      "cell_type": "code",
      "execution_count": null,
      "id": "18c995b0",
      "metadata": {
        "colab": {
          "base_uri": "https://localhost:8080/"
        },
        "execution": {
          "iopub.execute_input": "2023-08-18T20:03:35.689842Z",
          "iopub.status.busy": "2023-08-18T20:03:35.689042Z",
          "iopub.status.idle": "2023-08-18T20:03:38.794324Z",
          "shell.execute_reply": "2023-08-18T20:03:38.793491Z"
        },
        "id": "18c995b0",
        "origin_pos": 15,
        "outputId": "afda77c2-e78d-417b-cd15-5952a88c8875",
        "tab": [
          "tensorflow"
        ]
      },
      "outputs": [],
      "source": [
        "x = tf.range(12, dtype = tf.float32)\n",
        "x"
      ]
    },
    {
      "cell_type": "markdown",
      "id": "c6623979",
      "metadata": {
        "id": "c6623979",
        "origin_pos": 19,
        "tab": [
          "tensorflow"
        ]
      },
      "source": [
        "Each of these values is called\n",
        "an *element* of the tensor.\n",
        "The tensor `x` contains 12 elements.\n",
        "We can inspect the total number of elements\n",
        "in a tensor via the `size` function.\n"
      ]
    },
    {
      "cell_type": "code",
      "execution_count": null,
      "id": "d2040a20",
      "metadata": {
        "colab": {
          "base_uri": "https://localhost:8080/"
        },
        "execution": {
          "iopub.execute_input": "2023-08-18T20:03:38.797808Z",
          "iopub.status.busy": "2023-08-18T20:03:38.797236Z",
          "iopub.status.idle": "2023-08-18T20:03:38.803733Z",
          "shell.execute_reply": "2023-08-18T20:03:38.802941Z"
        },
        "id": "d2040a20",
        "origin_pos": 22,
        "outputId": "047f8940-6715-438f-8415-5813dcf8ab9a",
        "tab": [
          "tensorflow"
        ]
      },
      "outputs": [],
      "source": [
        "tf.size(x)"
      ]
    },
    {
      "cell_type": "markdown",
      "id": "897a4d17",
      "metadata": {
        "id": "897a4d17",
        "origin_pos": 23
      },
      "source": [
        "(**We can access a tensor's *shape***)\n",
        "(the length along each axis)\n",
        "by inspecting its `shape` attribute.\n",
        "Because we are dealing with a vector here,\n",
        "the `shape` contains just a single element\n",
        "and is identical to the size.\n"
      ]
    },
    {
      "cell_type": "code",
      "execution_count": null,
      "id": "c369c57e",
      "metadata": {
        "colab": {
          "base_uri": "https://localhost:8080/"
        },
        "execution": {
          "iopub.execute_input": "2023-08-18T20:03:38.806708Z",
          "iopub.status.busy": "2023-08-18T20:03:38.806423Z",
          "iopub.status.idle": "2023-08-18T20:03:38.811472Z",
          "shell.execute_reply": "2023-08-18T20:03:38.810697Z"
        },
        "id": "c369c57e",
        "origin_pos": 24,
        "outputId": "67d19682-52c2-44d4-91e3-b2a92810a011",
        "tab": [
          "tensorflow"
        ]
      },
      "outputs": [],
      "source": [
        "x.shape"
      ]
    },
    {
      "cell_type": "markdown",
      "id": "94f4cc49",
      "metadata": {
        "id": "94f4cc49",
        "origin_pos": 25
      },
      "source": [
        "We can [**change the shape of a tensor\n",
        "without altering its size or values**],\n",
        "by invoking `reshape`.\n",
        "For example, we can transform\n",
        "our vector `x` whose shape is (12,)\n",
        "to a matrix `X`  with shape (3, 4).\n",
        "This new tensor retains all elements\n",
        "but reconfigures them into a matrix.\n",
        "Notice that the elements of our vector\n",
        "are laid out one row at a time and thus\n",
        "`x[3] == X[0, 3]`.\n"
      ]
    },
    {
      "cell_type": "code",
      "execution_count": null,
      "id": "53d0f755",
      "metadata": {
        "colab": {
          "base_uri": "https://localhost:8080/"
        },
        "execution": {
          "iopub.execute_input": "2023-08-18T20:03:38.814638Z",
          "iopub.status.busy": "2023-08-18T20:03:38.814106Z",
          "iopub.status.idle": "2023-08-18T20:03:38.821683Z",
          "shell.execute_reply": "2023-08-18T20:03:38.820905Z"
        },
        "id": "53d0f755",
        "origin_pos": 27,
        "outputId": "225043d7-2f1b-4f58-972c-ae121e86d1f1",
        "tab": [
          "tensorflow"
        ]
      },
      "outputs": [],
      "source": [
        "X = tf.reshape(x, (3, 4))\n",
        "X"
      ]
    },
    {
      "cell_type": "markdown",
      "id": "12445c4d",
      "metadata": {
        "id": "12445c4d",
        "origin_pos": 28
      },
      "source": [
        "Note that specifying every shape component\n",
        "to `reshape` is redundant.\n",
        "Because we already know our tensor's size,\n",
        "we can work out one component of the shape given the rest.\n",
        "For example, given a tensor of size $n$\n",
        "and target shape ($h$, $w$),\n",
        "we know that $w = n/h$.\n",
        "To automatically infer one component of the shape,\n",
        "we can place a `-1` for the shape component\n",
        "that should be inferred automatically.\n",
        "In our case, instead of calling `x.reshape(3, 4)`,\n",
        "we could have equivalently called `x.reshape(-1, 4)` or `x.reshape(3, -1)`.\n",
        "\n",
        "Practitioners often need to work with tensors\n",
        "initialized to contain all 0s or 1s.\n",
        "[**We can construct a tensor with all elements set to 0**] (~~or one~~)\n",
        "and a shape of (2, 3, 4) via the `zeros` function.\n"
      ]
    },
    {
      "cell_type": "code",
      "execution_count": null,
      "id": "c89854f9",
      "metadata": {
        "colab": {
          "base_uri": "https://localhost:8080/"
        },
        "execution": {
          "iopub.execute_input": "2023-08-18T20:03:38.824955Z",
          "iopub.status.busy": "2023-08-18T20:03:38.824444Z",
          "iopub.status.idle": "2023-08-18T20:03:38.831127Z",
          "shell.execute_reply": "2023-08-18T20:03:38.830301Z"
        },
        "id": "c89854f9",
        "origin_pos": 31,
        "outputId": "3abd0e61-655e-4281-b199-196a5f680388",
        "tab": [
          "tensorflow"
        ]
      },
      "outputs": [],
      "source": [
        "T = tf.zeros((2, 3, 4))\n",
        "print(T)\n",
        "tf.size(T)\n",
        "tf.shape(T)"
      ]
    },
    {
      "cell_type": "markdown",
      "id": "044eb619",
      "metadata": {
        "id": "044eb619",
        "origin_pos": 33
      },
      "source": [
        "Similarly, we can create a tensor\n",
        "with all 1s by invoking `ones`.\n"
      ]
    },
    {
      "cell_type": "code",
      "execution_count": null,
      "id": "d50c177a",
      "metadata": {
        "colab": {
          "base_uri": "https://localhost:8080/"
        },
        "execution": {
          "iopub.execute_input": "2023-08-18T20:03:38.834426Z",
          "iopub.status.busy": "2023-08-18T20:03:38.833766Z",
          "iopub.status.idle": "2023-08-18T20:03:38.839758Z",
          "shell.execute_reply": "2023-08-18T20:03:38.838981Z"
        },
        "id": "d50c177a",
        "origin_pos": 36,
        "outputId": "46620231-f025-4828-a56d-ea437ce74368",
        "tab": [
          "tensorflow"
        ]
      },
      "outputs": [],
      "source": [
        "tf.ones((2, 3, 4))"
      ]
    },
    {
      "cell_type": "markdown",
      "id": "3a3f2238",
      "metadata": {
        "id": "3a3f2238",
        "origin_pos": 38
      },
      "source": [
        "We often wish to\n",
        "[**sample each element randomly (and independently)**]\n",
        "from a given probability distribution.\n",
        "For example, the parameters of neural networks\n",
        "are often initialized randomly.\n",
        "The following snippet creates a tensor\n",
        "with elements drawn from\n",
        "a standard Gaussian (normal) distribution\n",
        "with mean 0 and standard deviation 1.\n"
      ]
    },
    {
      "cell_type": "code",
      "execution_count": null,
      "id": "aef115bd",
      "metadata": {
        "colab": {
          "base_uri": "https://localhost:8080/"
        },
        "execution": {
          "iopub.execute_input": "2023-08-18T20:03:38.843006Z",
          "iopub.status.busy": "2023-08-18T20:03:38.842343Z",
          "iopub.status.idle": "2023-08-18T20:03:38.851517Z",
          "shell.execute_reply": "2023-08-18T20:03:38.850729Z"
        },
        "id": "aef115bd",
        "origin_pos": 41,
        "outputId": "99bed28c-245b-436a-885e-544786299f7f",
        "tab": [
          "tensorflow"
        ]
      },
      "outputs": [],
      "source": [
        "W = tf.random.normal(shape=(3, 4))\n",
        "print(W)"
      ]
    },
    {
      "cell_type": "markdown",
      "id": "07c2da70",
      "metadata": {
        "id": "07c2da70",
        "origin_pos": 43
      },
      "source": [
        "Finally, we can construct tensors by\n",
        "[**supplying the exact values for each element**]\n",
        "by supplying (possibly nested) Python list(s)\n",
        "containing numerical literals.\n",
        "Here, we construct a matrix with a list of lists,\n",
        "where the outermost list corresponds to axis 0,\n",
        "and the inner list corresponds to axis 1.\n"
      ]
    },
    {
      "cell_type": "code",
      "execution_count": null,
      "id": "a45c03c1",
      "metadata": {
        "execution": {
          "iopub.execute_input": "2023-08-18T20:03:38.855186Z",
          "iopub.status.busy": "2023-08-18T20:03:38.854537Z",
          "iopub.status.idle": "2023-08-18T20:03:38.860381Z",
          "shell.execute_reply": "2023-08-18T20:03:38.859585Z"
        },
        "id": "a45c03c1",
        "origin_pos": 46,
        "tab": [
          "tensorflow"
        ]
      },
      "outputs": [],
      "source": [
        "T = tf.constant([[2, 1, 4, 3], [1, 2, 3, 4], [4, 3, 2, 1]])\n",
        "print(T)\n",
        "#T[0, 0] = 1000 # result in an error message"
      ]
    },
    {
      "cell_type": "code",
      "execution_count": null,
      "id": "ZuS6dJ-U3URp",
      "metadata": {
        "colab": {
          "base_uri": "https://localhost:8080/"
        },
        "id": "ZuS6dJ-U3URp",
        "outputId": "45e07b0d-3324-4a1f-d8df-8110587fb568"
      },
      "outputs": [],
      "source": [
        "# timestamps (0) x patients (1) x features (2)\n",
        "T = tf.constant([[[74, 128], [79, 116], [71, 116]],\n",
        "              [[78, 118], [82, 124], [72, 128]],\n",
        "              [[84, 138], [84, 130], [74, 120]],\n",
        "              [[82, 126], [76, 156], [82, 132]]])\n",
        "print(T.shape)\n",
        "print(T)"
      ]
    },
    {
      "cell_type": "code",
      "execution_count": null,
      "id": "JnrngyGHeCkv",
      "metadata": {
        "colab": {
          "base_uri": "https://localhost:8080/"
        },
        "id": "JnrngyGHeCkv",
        "outputId": "39c18f67-7d52-47b9-e453-f64ebc6b6e2f"
      },
      "outputs": [],
      "source": [
        "T = tf.transpose(T, perm = [1, 0, 2]) # (0-timestamps, 1-patients, 2-features) -> (1-patients, 0-timestamps, 2-features)\n",
        "print(T.shape)\n",
        "print(T)"
      ]
    },
    {
      "cell_type": "markdown",
      "id": "d7ff92e2",
      "metadata": {
        "id": "d7ff92e2",
        "origin_pos": 48
      },
      "source": [
        "## Indexing and Slicing\n",
        "\n",
        "As with  Python lists,\n",
        "we can access tensor elements\n",
        "by indexing (starting with 0).\n",
        "To access an element based on its position\n",
        "relative to the end of the list,\n",
        "we can use negative indexing.\n",
        "Finally, we can access whole ranges of indices\n",
        "via slicing (e.g., `X[start:stop]`),\n",
        "where the returned value includes\n",
        "the first index (`start`) *but not the last* (`stop`).\n",
        "Finally, when only one index (or slice)\n",
        "is specified for a $k^\\textrm{th}$-order tensor,\n",
        "it is applied along axis 0.\n",
        "Thus, in the following code,\n",
        "[**`[-1]` selects the last row and `[1:3]`\n",
        "selects the second and third rows**].\n"
      ]
    },
    {
      "cell_type": "code",
      "execution_count": null,
      "id": "de02452a",
      "metadata": {
        "colab": {
          "base_uri": "https://localhost:8080/"
        },
        "execution": {
          "iopub.execute_input": "2023-08-18T20:03:38.863741Z",
          "iopub.status.busy": "2023-08-18T20:03:38.863114Z",
          "iopub.status.idle": "2023-08-18T20:03:38.872283Z",
          "shell.execute_reply": "2023-08-18T20:03:38.871493Z"
        },
        "id": "de02452a",
        "origin_pos": 49,
        "outputId": "c769dc00-dca1-40d6-c43d-203f2a787cfc",
        "tab": [
          "tensorflow"
        ]
      },
      "outputs": [],
      "source": [
        "# Axis order: (0-patients, 1-timestamps, 2-features)\n",
        "print(T)\n",
        "print('--------')\n",
        "T[0, -1, :]"
      ]
    },
    {
      "cell_type": "markdown",
      "id": "6595865f",
      "metadata": {
        "id": "6595865f",
        "origin_pos": 51,
        "tab": [
          "tensorflow"
        ]
      },
      "source": [
        "`Tensors` in TensorFlow are immutable, and cannot be assigned to.\n",
        "`Variables` in TensorFlow are mutable containers of state that support\n",
        "assignments. Keep in mind that gradients in TensorFlow do not flow backwards\n",
        "through `Variable` assignments.\n",
        "\n",
        "Beyond assigning a value to the entire `Variable`, we can write elements of a\n",
        "`Variable` by specifying indices.\n"
      ]
    },
    {
      "cell_type": "code",
      "execution_count": null,
      "id": "Vu0aBjI-i71D",
      "metadata": {
        "colab": {
          "base_uri": "https://localhost:8080/"
        },
        "id": "Vu0aBjI-i71D",
        "outputId": "8d8222fd-decc-48be-85ac-64d8a97bf4c2"
      },
      "outputs": [],
      "source": [
        "print(X)"
      ]
    },
    {
      "cell_type": "code",
      "execution_count": null,
      "id": "60b14db7",
      "metadata": {
        "colab": {
          "base_uri": "https://localhost:8080/"
        },
        "execution": {
          "iopub.execute_input": "2023-08-18T20:03:38.875638Z",
          "iopub.status.busy": "2023-08-18T20:03:38.874974Z",
          "iopub.status.idle": "2023-08-18T20:03:38.889404Z",
          "shell.execute_reply": "2023-08-18T20:03:38.888620Z"
        },
        "id": "60b14db7",
        "origin_pos": 53,
        "outputId": "ea3d8906-d4ae-42dd-8263-76bf52477bb9",
        "tab": [
          "tensorflow"
        ]
      },
      "outputs": [],
      "source": [
        "X_var = tf.Variable(X)\n",
        "X_var[1, 2].assign(6000)\n",
        "X_var"
      ]
    },
    {
      "cell_type": "markdown",
      "id": "64dd4c22",
      "metadata": {
        "id": "64dd4c22",
        "origin_pos": 55
      },
      "source": [
        "If we want [**to assign multiple elements the same value,\n",
        "we apply the indexing on the left-hand side\n",
        "of the assignment operation.**]\n",
        "For instance, `[:2, :]`  accesses\n",
        "the first and second rows,\n",
        "where `:` takes all the elements along axis 1 (column).\n",
        "While we discussed indexing for matrices,\n",
        "this also works for vectors\n",
        "and for tensors of more than two dimensions.\n"
      ]
    },
    {
      "cell_type": "code",
      "execution_count": null,
      "id": "-5JzO_Ve80-w",
      "metadata": {
        "colab": {
          "base_uri": "https://localhost:8080/"
        },
        "id": "-5JzO_Ve80-w",
        "outputId": "f8a1fe20-492d-4b28-a00b-33f3b7b8e1d0"
      },
      "outputs": [],
      "source": [
        "print(X)\n",
        "X_var = tf.Variable(X)\n",
        "print(X_var)"
      ]
    },
    {
      "cell_type": "code",
      "execution_count": null,
      "id": "ce730a32",
      "metadata": {
        "colab": {
          "base_uri": "https://localhost:8080/"
        },
        "execution": {
          "iopub.execute_input": "2023-08-18T20:03:38.892762Z",
          "iopub.status.busy": "2023-08-18T20:03:38.892163Z",
          "iopub.status.idle": "2023-08-18T20:03:38.902826Z",
          "shell.execute_reply": "2023-08-18T20:03:38.902015Z"
        },
        "id": "ce730a32",
        "origin_pos": 57,
        "outputId": "562adc95-c995-482d-9ce5-eee1bb429cc2",
        "tab": [
          "tensorflow"
        ]
      },
      "outputs": [],
      "source": [
        "X_var = tf.Variable(X)\n",
        "print(X_var)\n",
        "X_var[:2, :].assign(tf.ones(X_var[:2,:].shape, dtype=tf.float32) * 12)\n",
        "X_var"
      ]
    },
    {
      "cell_type": "markdown",
      "id": "1e888829",
      "metadata": {
        "id": "1e888829",
        "origin_pos": 59
      },
      "source": [
        "## Operations\n",
        "\n",
        "Now that we know how to construct tensors\n",
        "and how to read from and write to their elements,\n",
        "we can begin to manipulate them\n",
        "with various mathematical operations.\n",
        "Among the most useful of these\n",
        "are the *elementwise* operations.\n",
        "These apply a standard scalar operation\n",
        "to each element of a tensor.\n",
        "For functions that take two tensors as inputs,\n",
        "elementwise operations apply some standard binary operator\n",
        "on each pair of corresponding elements.\n",
        "We can create an elementwise function\n",
        "from any function that maps\n",
        "from a scalar to a scalar.\n",
        "\n",
        "In mathematical notation, we denote such\n",
        "*unary* scalar operators (taking one input)\n",
        "by the signature\n",
        "$f: \\mathbb{R} \\rightarrow \\mathbb{R}$.\n",
        "This just means that the function maps\n",
        "from any real number onto some other real number.\n",
        "Most standard operators, including unary ones like $e^x$, can be applied elementwise.\n"
      ]
    },
    {
      "cell_type": "code",
      "execution_count": null,
      "id": "57db331d",
      "metadata": {
        "colab": {
          "base_uri": "https://localhost:8080/"
        },
        "execution": {
          "iopub.execute_input": "2023-08-18T20:03:38.906103Z",
          "iopub.status.busy": "2023-08-18T20:03:38.905506Z",
          "iopub.status.idle": "2023-08-18T20:03:38.911813Z",
          "shell.execute_reply": "2023-08-18T20:03:38.911041Z"
        },
        "id": "57db331d",
        "origin_pos": 62,
        "outputId": "d75e7b43-20b4-49bd-b2bf-67f6bc082b0c",
        "tab": [
          "tensorflow"
        ]
      },
      "outputs": [],
      "source": [
        "print(X)\n",
        "tf.exp(X)"
      ]
    },
    {
      "cell_type": "markdown",
      "id": "93154e12",
      "metadata": {
        "id": "93154e12",
        "origin_pos": 64
      },
      "source": [
        "Likewise, we denote *binary* scalar operators,\n",
        "which map pairs of real numbers\n",
        "to a (single) real number\n",
        "via the signature\n",
        "$f: \\mathbb{R}, \\mathbb{R} \\rightarrow \\mathbb{R}$.\n",
        "Given any two vectors $\\mathbf{u}$\n",
        "and $\\mathbf{v}$ *of the same shape*,\n",
        "and a binary operator $f$, we can produce a vector\n",
        "$\\mathbf{c} = F(\\mathbf{u},\\mathbf{v})$\n",
        "by setting $c_i \\gets f(u_i, v_i)$ for all $i$,\n",
        "where $c_i, u_i$, and $v_i$ are the $i^\\textrm{th}$ elements\n",
        "of vectors $\\mathbf{c}, \\mathbf{u}$, and $\\mathbf{v}$.\n",
        "Here, we produced the vector-valued\n",
        "$F: \\mathbb{R}^d, \\mathbb{R}^d \\rightarrow \\mathbb{R}^d$\n",
        "by *lifting* the scalar function\n",
        "to an elementwise vector operation.\n",
        "The common standard arithmetic operators\n",
        "for addition (`+`), subtraction (`-`),\n",
        "multiplication (`*`), division (`/`),\n",
        "and exponentiation (`**`)\n",
        "have all been *lifted* to elementwise operations\n",
        "for identically-shaped tensors of arbitrary shape.\n"
      ]
    },
    {
      "cell_type": "code",
      "execution_count": null,
      "id": "450ecae0",
      "metadata": {
        "colab": {
          "base_uri": "https://localhost:8080/"
        },
        "execution": {
          "iopub.execute_input": "2023-08-18T20:03:38.915088Z",
          "iopub.status.busy": "2023-08-18T20:03:38.914492Z",
          "iopub.status.idle": "2023-08-18T20:03:38.925109Z",
          "shell.execute_reply": "2023-08-18T20:03:38.924342Z"
        },
        "id": "450ecae0",
        "origin_pos": 67,
        "outputId": "33700da5-e19a-4214-db50-56691a8b299a",
        "tab": [
          "tensorflow"
        ]
      },
      "outputs": [],
      "source": [
        "x = tf.constant([1.0, 2, 4, 8])\n",
        "y = tf.constant([2.0, 2, 2, 2])\n",
        "print(x)\n",
        "print(y)\n",
        "x + y, x - y, x * y, x / y, x ** y"
      ]
    },
    {
      "cell_type": "markdown",
      "id": "bdd1bce8",
      "metadata": {
        "id": "bdd1bce8",
        "origin_pos": 69
      },
      "source": [
        "In addition to elementwise computations,\n",
        "we can also perform linear algebraic operations,\n",
        "such as dot products and matrix multiplications.\n",
        "We will elaborate on these\n",
        "in :numref:`sec_linear-algebra`.\n",
        "\n",
        "We can also [***concatenate* multiple tensors,**]\n",
        "stacking them end-to-end to form a larger one.\n",
        "We just need to provide a list of tensors\n",
        "and tell the system along which axis to concatenate.\n",
        "The example below shows what happens when we concatenate\n",
        "two matrices along rows (axis 0)\n",
        "instead of columns (axis 1).\n",
        "We can see that the first output's axis-0 length ($6$)\n",
        "is the sum of the two input tensors' axis-0 lengths ($3 + 3$);\n",
        "while the second output's axis-1 length ($8$)\n",
        "is the sum of the two input tensors' axis-1 lengths ($4 + 4$).\n"
      ]
    },
    {
      "cell_type": "code",
      "execution_count": null,
      "id": "89f4cd29",
      "metadata": {
        "colab": {
          "base_uri": "https://localhost:8080/"
        },
        "execution": {
          "iopub.execute_input": "2023-08-18T20:03:38.928513Z",
          "iopub.status.busy": "2023-08-18T20:03:38.927897Z",
          "iopub.status.idle": "2023-08-18T20:03:38.936885Z",
          "shell.execute_reply": "2023-08-18T20:03:38.936112Z"
        },
        "id": "89f4cd29",
        "origin_pos": 72,
        "outputId": "b4dc45b8-2e36-47ad-c44d-cd2d04224809",
        "tab": [
          "tensorflow"
        ]
      },
      "outputs": [],
      "source": [
        "X = tf.reshape(tf.range(12, dtype=tf.float32), (3, 4))\n",
        "Y = tf.constant([[2.0, 1, 4, 3], [1, 2, 3, 4], [4, 3, 2, 1]])\n",
        "print(X)\n",
        "print(Y)\n",
        "tf.concat([X, Y], axis=0)\n",
        "tf.concat([X, Y], axis=1)"
      ]
    },
    {
      "cell_type": "markdown",
      "id": "b5e7330b",
      "metadata": {
        "id": "b5e7330b",
        "origin_pos": 74
      },
      "source": [
        "Sometimes, we want to\n",
        "[**construct a binary tensor via *logical statements*.**]\n",
        "Take `X == Y` as an example.\n",
        "For each position `i, j`, if `X[i, j]` and `Y[i, j]` are equal,\n",
        "then the corresponding entry in the result takes value `1`,\n",
        "otherwise it takes value `0`.\n"
      ]
    },
    {
      "cell_type": "code",
      "execution_count": null,
      "id": "db32b5d2",
      "metadata": {
        "colab": {
          "base_uri": "https://localhost:8080/"
        },
        "execution": {
          "iopub.execute_input": "2023-08-18T20:03:38.940215Z",
          "iopub.status.busy": "2023-08-18T20:03:38.939568Z",
          "iopub.status.idle": "2023-08-18T20:03:38.945736Z",
          "shell.execute_reply": "2023-08-18T20:03:38.944966Z"
        },
        "id": "db32b5d2",
        "origin_pos": 75,
        "outputId": "9bc86c8f-e356-4e39-e57d-80184a609a34",
        "tab": [
          "tensorflow"
        ]
      },
      "outputs": [],
      "source": [
        "print(X == Y)"
      ]
    },
    {
      "cell_type": "markdown",
      "id": "732d0c62",
      "metadata": {
        "id": "732d0c62",
        "origin_pos": 76
      },
      "source": [
        "[**Summing all the elements in the tensor**] yields a tensor with only one element.\n"
      ]
    },
    {
      "cell_type": "code",
      "execution_count": null,
      "id": "3cd9ba62",
      "metadata": {
        "colab": {
          "base_uri": "https://localhost:8080/"
        },
        "execution": {
          "iopub.execute_input": "2023-08-18T20:03:38.949018Z",
          "iopub.status.busy": "2023-08-18T20:03:38.948428Z",
          "iopub.status.idle": "2023-08-18T20:03:38.954679Z",
          "shell.execute_reply": "2023-08-18T20:03:38.953879Z"
        },
        "id": "3cd9ba62",
        "origin_pos": 78,
        "outputId": "5dfe8573-5d12-4596-8fbe-7c4b74663e66",
        "tab": [
          "tensorflow"
        ]
      },
      "outputs": [],
      "source": [
        "print(X)\n",
        "print(tf.reduce_sum(X))\n",
        "print(tf.reduce_sum(X, axis = 0))\n",
        "print(tf.reduce_sum(X, axis = 1))"
      ]
    },
    {
      "cell_type": "code",
      "execution_count": null,
      "id": "zFkt-J2xl_eN",
      "metadata": {
        "colab": {
          "base_uri": "https://localhost:8080/"
        },
        "id": "zFkt-J2xl_eN",
        "outputId": "7b33a6c6-8b8c-4c47-b0ea-c2ada8f4dade"
      },
      "outputs": [],
      "source": [
        "# Axis order: (0-patients, 1-timestamps, 2-features)\n",
        "print(T.shape)\n",
        "print(T)\n",
        "tf.math.reduce_mean(T, axis = 0)\n",
        "tf.math.reduce_mean(T, axis = 1)"
      ]
    },
    {
      "cell_type": "markdown",
      "id": "f8af5475",
      "metadata": {
        "id": "f8af5475",
        "origin_pos": 79
      },
      "source": [
        "## Broadcasting\n",
        ":label:`subsec_broadcasting`\n",
        "\n",
        "By now, you know how to perform\n",
        "elementwise binary operations\n",
        "on two tensors of the same shape.\n",
        "Under certain conditions,\n",
        "even when shapes differ,\n",
        "we can still [**perform elementwise binary operations\n",
        "by invoking the *broadcasting mechanism*.**]\n",
        "Broadcasting works according to\n",
        "the following two-step procedure:\n",
        "(i) expand one or both arrays\n",
        "by copying elements along axes with length 1\n",
        "so that after this transformation,\n",
        "the two tensors have the same shape;\n",
        "(ii) perform an elementwise operation\n",
        "on the resulting arrays.\n"
      ]
    },
    {
      "cell_type": "code",
      "execution_count": null,
      "id": "5aa20e68",
      "metadata": {
        "colab": {
          "base_uri": "https://localhost:8080/"
        },
        "execution": {
          "iopub.execute_input": "2023-08-18T20:03:38.957893Z",
          "iopub.status.busy": "2023-08-18T20:03:38.957287Z",
          "iopub.status.idle": "2023-08-18T20:03:38.966106Z",
          "shell.execute_reply": "2023-08-18T20:03:38.965330Z"
        },
        "id": "5aa20e68",
        "origin_pos": 82,
        "outputId": "41e405fc-f30e-4e8f-cfd1-2b634da4a53e",
        "tab": [
          "tensorflow"
        ]
      },
      "outputs": [],
      "source": [
        "a = tf.reshape(tf.range(3), (3, 1))\n",
        "b = tf.reshape(tf.range(2), (1, 2))\n",
        "print(a)\n",
        "print(b)"
      ]
    },
    {
      "cell_type": "markdown",
      "id": "VL0cl_ywol9I",
      "metadata": {
        "id": "VL0cl_ywol9I"
      },
      "source": []
    },
    {
      "cell_type": "markdown",
      "id": "ced73297",
      "metadata": {
        "id": "ced73297",
        "origin_pos": 84
      },
      "source": [
        "Since `a` and `b` are $3\\times1$\n",
        "and $1\\times2$ matrices, respectively,\n",
        "their shapes do not match up.\n",
        "Broadcasting produces a larger $3\\times2$ matrix\n",
        "by replicating matrix `a` along the columns\n",
        "and matrix `b` along the rows\n",
        "before adding them elementwise.\n"
      ]
    },
    {
      "cell_type": "code",
      "execution_count": null,
      "id": "XKxzPLhqB-sM",
      "metadata": {
        "colab": {
          "base_uri": "https://localhost:8080/"
        },
        "id": "XKxzPLhqB-sM",
        "outputId": "81f1f6c5-65ee-462b-ef88-6d786be2bd7a"
      },
      "outputs": [],
      "source": [
        "print(a)\n",
        "print(b)"
      ]
    },
    {
      "cell_type": "code",
      "execution_count": null,
      "id": "561a499f",
      "metadata": {
        "colab": {
          "base_uri": "https://localhost:8080/"
        },
        "execution": {
          "iopub.execute_input": "2023-08-18T20:03:38.969369Z",
          "iopub.status.busy": "2023-08-18T20:03:38.968777Z",
          "iopub.status.idle": "2023-08-18T20:03:38.974946Z",
          "shell.execute_reply": "2023-08-18T20:03:38.974129Z"
        },
        "id": "561a499f",
        "origin_pos": 85,
        "outputId": "faefe71a-7a3f-4da7-8cf4-e6481681359f",
        "tab": [
          "tensorflow"
        ]
      },
      "outputs": [],
      "source": [
        "a + b"
      ]
    },
    {
      "cell_type": "markdown",
      "id": "b570a60a",
      "metadata": {
        "id": "b570a60a",
        "origin_pos": 86
      },
      "source": [
        "## Saving Memory\n",
        "\n",
        "[**Running operations can cause new memory to be\n",
        "allocated to host results.**]\n",
        "For example, if we write `Y = X + Y`,\n",
        "we dereference the tensor that `Y` used to point to\n",
        "and instead point `Y` at the newly allocated memory.\n",
        "We can demonstrate this issue with Python's `id()` function,\n",
        "which gives us the exact address\n",
        "of the referenced object in memory.\n",
        "Note that after we run `Y = Y + X`,\n",
        "`id(Y)` points to a different location.\n",
        "That is because Python first evaluates `Y + X`,\n",
        "allocating new memory for the result\n",
        "and then points `Y` to this new location in memory.\n"
      ]
    },
    {
      "cell_type": "code",
      "execution_count": null,
      "id": "f5e5f9c8",
      "metadata": {
        "execution": {
          "iopub.execute_input": "2023-08-18T20:03:38.978187Z",
          "iopub.status.busy": "2023-08-18T20:03:38.977592Z",
          "iopub.status.idle": "2023-08-18T20:03:38.982872Z",
          "shell.execute_reply": "2023-08-18T20:03:38.982072Z"
        },
        "id": "f5e5f9c8",
        "origin_pos": 87,
        "tab": [
          "tensorflow"
        ]
      },
      "outputs": [],
      "source": [
        "before = id(Y)\n",
        "Y = Y + X\n",
        "id(Y) == before"
      ]
    },
    {
      "cell_type": "markdown",
      "id": "761fd452",
      "metadata": {
        "id": "761fd452",
        "origin_pos": 88
      },
      "source": [
        "This might be undesirable for two reasons.\n",
        "First, we do not want to run around\n",
        "allocating memory unnecessarily all the time.\n",
        "In machine learning, we often have\n",
        "hundreds of megabytes of parameters\n",
        "and update all of them multiple times per second.\n",
        "Whenever possible, we want to perform these updates *in place*.\n",
        "Second, we might point at the\n",
        "same parameters from multiple variables.\n",
        "If we do not update in place,\n",
        "we must be careful to update all of these references,\n",
        "lest we spring a memory leak\n",
        "or inadvertently refer to stale parameters.\n"
      ]
    },
    {
      "cell_type": "markdown",
      "id": "7b012e6c",
      "metadata": {
        "id": "7b012e6c",
        "origin_pos": 90,
        "tab": [
          "tensorflow"
        ]
      },
      "source": [
        "`Variables` are mutable containers of state in TensorFlow. They provide\n",
        "a way to store your model parameters.\n",
        "We can assign the result of an operation\n",
        "to a `Variable` with `assign`.\n",
        "To illustrate this concept,\n",
        "we overwrite the values of `Variable` `Z`\n",
        "after initializing it, using `zeros_like`,\n",
        "to have the same shape as `Y`.\n"
      ]
    },
    {
      "cell_type": "code",
      "execution_count": null,
      "id": "98a5dd35",
      "metadata": {
        "execution": {
          "iopub.execute_input": "2023-08-18T20:03:38.986206Z",
          "iopub.status.busy": "2023-08-18T20:03:38.985569Z",
          "iopub.status.idle": "2023-08-18T20:03:38.993195Z",
          "shell.execute_reply": "2023-08-18T20:03:38.992393Z"
        },
        "id": "98a5dd35",
        "origin_pos": 93,
        "tab": [
          "tensorflow"
        ]
      },
      "outputs": [],
      "source": [
        "Z = tf.Variable(tf.zeros_like(Y))\n",
        "print('id(Z):', id(Z))\n",
        "Z.assign(X + Y)\n",
        "print('id(Z):', id(Z))"
      ]
    },
    {
      "cell_type": "markdown",
      "id": "f1596c76",
      "metadata": {
        "id": "f1596c76",
        "origin_pos": 96,
        "tab": [
          "tensorflow"
        ]
      },
      "source": [
        "Even once you store state persistently in a `Variable`,\n",
        "you may want to reduce your memory usage further by avoiding excess\n",
        "allocations for tensors that are not your model parameters.\n",
        "Because TensorFlow `Tensors` are immutable\n",
        "and gradients do not flow through `Variable` assignments,\n",
        "TensorFlow does not provide an explicit way to run\n",
        "an individual operation in-place.\n",
        "\n",
        "However, TensorFlow provides the `tf.function` decorator\n",
        "to wrap computation inside of a TensorFlow graph\n",
        "that gets compiled and optimized before running.\n",
        "This allows TensorFlow to prune unused values,\n",
        "and to reuse prior allocations that are no longer needed.\n",
        "This minimizes the memory overhead of TensorFlow computations.\n"
      ]
    },
    {
      "cell_type": "code",
      "execution_count": null,
      "id": "8f12394b",
      "metadata": {
        "execution": {
          "iopub.execute_input": "2023-08-18T20:03:38.996480Z",
          "iopub.status.busy": "2023-08-18T20:03:38.995882Z",
          "iopub.status.idle": "2023-08-18T20:03:39.075926Z",
          "shell.execute_reply": "2023-08-18T20:03:39.075137Z"
        },
        "id": "8f12394b",
        "origin_pos": 98,
        "tab": [
          "tensorflow"
        ]
      },
      "outputs": [],
      "source": [
        "@tf.function\n",
        "def computation(X, Y):\n",
        "    Z = tf.zeros_like(Y)  # This unused value will be pruned out\n",
        "    A = X + Y  # Allocations will be reused when no longer needed\n",
        "    B = A + Y\n",
        "    C = B + Y\n",
        "    return C + Y\n",
        "\n",
        "computation(X, Y)"
      ]
    },
    {
      "cell_type": "markdown",
      "id": "9781ccfd",
      "metadata": {
        "id": "9781ccfd",
        "origin_pos": 99
      },
      "source": [
        "## Conversion to Other Python Objects\n"
      ]
    },
    {
      "cell_type": "markdown",
      "id": "c40b6a3b",
      "metadata": {
        "id": "c40b6a3b",
        "origin_pos": 100,
        "tab": [
          "tensorflow"
        ]
      },
      "source": [
        "[**Converting to a NumPy tensor (`ndarray`)**], or vice versa, is easy.\n",
        "The converted result does not share memory.\n",
        "This minor inconvenience is actually quite important:\n",
        "when you perform operations on the CPU or on GPUs,\n",
        "you do not want to halt computation, waiting to see\n",
        "whether the NumPy package of Python\n",
        "might want to be doing something else\n",
        "with the same chunk of memory.\n"
      ]
    },
    {
      "cell_type": "code",
      "execution_count": null,
      "id": "1a52fb0d",
      "metadata": {
        "execution": {
          "iopub.execute_input": "2023-08-18T20:03:39.079210Z",
          "iopub.status.busy": "2023-08-18T20:03:39.078704Z",
          "iopub.status.idle": "2023-08-18T20:03:39.084139Z",
          "shell.execute_reply": "2023-08-18T20:03:39.083376Z"
        },
        "id": "1a52fb0d",
        "origin_pos": 104,
        "tab": [
          "tensorflow"
        ]
      },
      "outputs": [],
      "source": [
        "A = X.numpy()\n",
        "B = tf.constant(A)\n",
        "type(A), type(B)"
      ]
    },
    {
      "cell_type": "markdown",
      "id": "663bcbe8",
      "metadata": {
        "id": "663bcbe8",
        "origin_pos": 106
      },
      "source": [
        "To (**convert a size-1 tensor to a Python scalar**),\n",
        "we can invoke the `item` function or Python's built-in functions.\n"
      ]
    },
    {
      "cell_type": "code",
      "execution_count": null,
      "id": "7a57fe2d",
      "metadata": {
        "execution": {
          "iopub.execute_input": "2023-08-18T20:03:39.087476Z",
          "iopub.status.busy": "2023-08-18T20:03:39.086836Z",
          "iopub.status.idle": "2023-08-18T20:03:39.092603Z",
          "shell.execute_reply": "2023-08-18T20:03:39.091814Z"
        },
        "id": "7a57fe2d",
        "origin_pos": 109,
        "tab": [
          "tensorflow"
        ]
      },
      "outputs": [],
      "source": [
        "a = tf.constant([3.5]).numpy()\n",
        "a, a.item(), float(a), int(a)"
      ]
    },
    {
      "cell_type": "markdown",
      "id": "ad29fbd2",
      "metadata": {
        "id": "ad29fbd2",
        "origin_pos": 111
      },
      "source": [
        "## Summary\n",
        "\n",
        "The tensor class is the main interface for storing and manipulating data in deep learning libraries.\n",
        "Tensors provide a variety of functionalities including construction routines; indexing and slicing; basic mathematics operations; broadcasting; memory-efficient assignment; and conversion to and from other Python objects.\n",
        "\n",
        "\n",
        "## Exercises\n",
        "\n",
        "1. Run the code in this section. Change the conditional statement `X == Y` to `X < Y` or `X > Y`, and then see what kind of tensor you can get.\n",
        "1. Replace the two tensors that operate by element in the broadcasting mechanism with other shapes, e.g., 3-dimensional tensors. Is the result the same as expected?\n"
      ]
    },
    {
      "cell_type": "markdown",
      "id": "94b6aea9",
      "metadata": {
        "id": "94b6aea9",
        "origin_pos": 114,
        "tab": [
          "tensorflow"
        ]
      },
      "source": [
        "[Discussions](https://discuss.d2l.ai/t/187)\n"
      ]
    },
    {
      "cell_type": "code",
      "execution_count": null,
      "id": "0s0mudRDMxGf",
      "metadata": {
        "id": "0s0mudRDMxGf"
      },
      "outputs": [],
      "source": [
        "## Mount Google drive folder if running in Colab\n",
        "if('google.colab' in sys.modules):\n",
        "    from google.colab import drive\n",
        "    drive.mount('/content/drive', force_remount = True)\n",
        "    DIR = '/content/drive/MyDrive/Colab Notebooks/MAHE/MSIS Coursework/OddSem2023MAHE'\n",
        "    DATA_DIR = DIR + '/Data/'\n",
        "else:\n",
        "    DATA_DIR = 'Data/'"
      ]
    },
    {
      "cell_type": "markdown",
      "id": "WXa55xAOMxpQ",
      "metadata": {
        "id": "WXa55xAOMxpQ"
      },
      "source": [
        "**Problem-1**: we will reconstruct missing values in a real ECG signal. To that end, first load the ECG signal data and make a component plot of the loaded ECG vector by executing the cell below. Note the missing values:"
      ]
    },
    {
      "cell_type": "code",
      "execution_count": null,
      "id": "4VN1yCmfMzKo",
      "metadata": {
        "id": "4VN1yCmfMzKo"
      },
      "outputs": [],
      "source": [
        "## Load data\n",
        "FILE = DATA_DIR + 'ecg_missing.txt'\n",
        "df_ecg = pd.read_csv(FILE, header = None, names = ['ecgvalues'])\n",
        "df_ecg['ecgvalues'] = df_ecg['ecgvalues'].astype(float)\n",
        "\n",
        "## Component plot of the ecg signal\n",
        "fig, ax = plt.subplots(1, 1, figsize = (6, 4))\n",
        "component_index = range(0, len(df_ecg['ecgvalues']))\n",
        "ax.scatter(component_index, df_ecg['ecgvalues'], color = 'black', marker = 'o', s = 5)\n",
        "ax.set_xlabel('Sample Number')\n",
        "ax.set_ylabel('Normalized Voltage')\n",
        "ax.set_title('ECG Signal With Missing Values');"
      ]
    }
  ],
  "metadata": {
    "colab": {
      "include_colab_link": true,
      "provenance": []
    },
    "kernelspec": {
      "display_name": "Python 3",
      "name": "python3"
    },
    "language_info": {
      "codemirror_mode": {
        "name": "ipython",
        "version": 3
      },
      "file_extension": ".py",
      "mimetype": "text/x-python",
      "name": "python",
      "nbconvert_exporter": "python",
      "pygments_lexer": "ipython3",
      "version": "3.12.1"
    },
    "required_libs": []
  },
  "nbformat": 4,
  "nbformat_minor": 5
}
